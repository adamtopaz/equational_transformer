{
 "cells": [
  {
   "cell_type": "code",
   "execution_count": 1,
   "id": "c66afc10-8242-4573-b81f-b7435182f11a",
   "metadata": {},
   "outputs": [],
   "source": [
    "from common.tokenizer import TokenizerConfig, Tokenizer\n",
    "from common.encoder import TransformerEncoderConfig, TransformerEncoder\n",
    "from posttraining.model import ModelConfig, Model\n",
    "from tqdm.notebook import tqdm\n",
    "from posttraining.dataset import PosttrainingDatasetConfig, PosttrainingDataset\n",
    "\n",
    "from torch.utils.data import DataLoader\n",
    "import torch\n",
    "import json"
   ]
  },
  {
   "cell_type": "markdown",
   "id": "448a5aea-b38d-48c8-9535-9b468f9fe03b",
   "metadata": {},
   "source": [
    "# Loading the model\n",
    "\n",
    "We start by loading the model with the default configuration."
   ]
  },
  {
   "cell_type": "code",
   "execution_count": 2,
   "id": "9b9104b7-176e-4232-b68e-e069e659c7d3",
   "metadata": {},
   "outputs": [],
   "source": [
    "# Set up default configuration\n",
    "\n",
    "tokenizer_cfg = TokenizerConfig(\n",
    "    var_names=\"xyzwuvrst\",\n",
    "    pad_token=0,\n",
    "    mask_token=1,\n",
    "    mul_token=2,\n",
    "    num_special_token=3,\n",
    "    mask_rate=0.15,\n",
    "    vocab_size=100\n",
    ")\n",
    "\n",
    "encoder_cfg = TransformerEncoderConfig(\n",
    "    num_layer=4,\n",
    "    num_head=2,\n",
    "    d_model=64,\n",
    "    d_ff=128,\n",
    "    dropout=0.1,\n",
    "    max_len=512,\n",
    "    vocab_size=100,\n",
    "    num_kind=3,\n",
    "    pad_token=0,\n",
    "    pad_kind=0,\n",
    "    kind_weight=1e-3\n",
    ")\n",
    "\n",
    "model_cfg = ModelConfig(\n",
    "    proj_dim=32\n",
    ")\n",
    "\n",
    "lhs_kind = 1\n",
    "rhs_kind = 2"
   ]
  },
  {
   "cell_type": "code",
   "execution_count": 3,
   "id": "5f86b183-bc72-4ade-b691-58154ca454a2",
   "metadata": {},
   "outputs": [
    {
     "data": {
      "text/plain": [
       "Model(\n",
       "  (encoder): TransformerEncoder(\n",
       "    (positional_encoding): Embedding(512, 64)\n",
       "    (kind_embedding): Embedding(3, 64)\n",
       "    (embedding): Embedding(100, 64)\n",
       "    (encoder_layer): TransformerEncoderLayer(\n",
       "      (self_attn): MultiheadAttention(\n",
       "        (out_proj): NonDynamicallyQuantizableLinear(in_features=64, out_features=64, bias=True)\n",
       "      )\n",
       "      (linear1): Linear(in_features=64, out_features=128, bias=True)\n",
       "      (dropout): Dropout(p=0.1, inplace=False)\n",
       "      (linear2): Linear(in_features=128, out_features=64, bias=True)\n",
       "      (norm1): LayerNorm((64,), eps=1e-05, elementwise_affine=True)\n",
       "      (norm2): LayerNorm((64,), eps=1e-05, elementwise_affine=True)\n",
       "      (dropout1): Dropout(p=0.1, inplace=False)\n",
       "      (dropout2): Dropout(p=0.1, inplace=False)\n",
       "    )\n",
       "    (encoder): TransformerEncoder(\n",
       "      (layers): ModuleList(\n",
       "        (0-3): 4 x TransformerEncoderLayer(\n",
       "          (self_attn): MultiheadAttention(\n",
       "            (out_proj): NonDynamicallyQuantizableLinear(in_features=64, out_features=64, bias=True)\n",
       "          )\n",
       "          (linear1): Linear(in_features=64, out_features=128, bias=True)\n",
       "          (dropout): Dropout(p=0.1, inplace=False)\n",
       "          (linear2): Linear(in_features=128, out_features=64, bias=True)\n",
       "          (norm1): LayerNorm((64,), eps=1e-05, elementwise_affine=True)\n",
       "          (norm2): LayerNorm((64,), eps=1e-05, elementwise_affine=True)\n",
       "          (dropout1): Dropout(p=0.1, inplace=False)\n",
       "          (dropout2): Dropout(p=0.1, inplace=False)\n",
       "        )\n",
       "      )\n",
       "    )\n",
       "    (lm_head): Linear(in_features=64, out_features=100, bias=False)\n",
       "    (kind_head): Linear(in_features=64, out_features=3, bias=False)\n",
       "  )\n",
       "  (lhs): Linear(in_features=64, out_features=32, bias=True)\n",
       "  (rhs): Linear(in_features=64, out_features=32, bias=True)\n",
       ")"
      ]
     },
     "execution_count": 3,
     "metadata": {},
     "output_type": "execute_result"
    }
   ],
   "source": [
    "# Initialize the tokenizer, encoder and model, and load the default trained model.\n",
    "tokenizer = Tokenizer(tokenizer_cfg)\n",
    "encoder = TransformerEncoder(encoder_cfg)\n",
    "model = Model(encoder, model_cfg)\n",
    "model.load_state_dict(torch.load('default_trained_model.pth', weights_only=True))\n",
    "model.eval()"
   ]
  },
  {
   "cell_type": "markdown",
   "id": "696a4462-96c0-4b8e-900f-8667c54e679b",
   "metadata": {},
   "source": [
    "# Making predictions\n",
    "\n",
    "The next few cells illustrate how to make predictions with the model."
   ]
  },
  {
   "cell_type": "code",
   "execution_count": 4,
   "id": "781d3d8d-5389-44b9-8a3e-1c4b3270cb31",
   "metadata": {},
   "outputs": [],
   "source": [
    "# Set up tokenized equations\n",
    "equations = dict()\n",
    "with open(\"tokenized_equations.jsonl\",\"r\") as f:\n",
    "    for l in f:\n",
    "        j = json.loads(l)\n",
    "        equations[j['name']] = {'lhs' : j['lhs'], 'rhs' : j['rhs']}"
   ]
  },
  {
   "cell_type": "code",
   "execution_count": 5,
   "id": "7f85c057-9d1f-4e60-b076-5d1e9a25b6b6",
   "metadata": {},
   "outputs": [],
   "source": [
    "# Example illustrating how to use the model for prediction.\n",
    "# Note that the model outputs logits, so sigmoid must be used to get a probability.\n",
    "def predict(lhs,rhs):\n",
    "    lhs = equations[lhs]\n",
    "    rhs = equations[rhs]\n",
    "    lhs_src = torch.tensor(tokenizer.tokenize(lhs['lhs'] + lhs['rhs'])['tokens']).unsqueeze(0)\n",
    "    rhs_src = torch.tensor(tokenizer.tokenize(rhs['lhs'] + rhs['rhs'])['tokens']).unsqueeze(0)\n",
    "    lhs_kinds = torch.tensor([lhs_kind] * len(lhs['lhs']) + [rhs_kind] * len(lhs['rhs'])).unsqueeze(0)\n",
    "    rhs_kinds = torch.tensor([lhs_kind] * len(rhs['lhs']) + [rhs_kind] * len(rhs['rhs'])).unsqueeze(0)\n",
    "    output = model.forward(\n",
    "        { 'src' : lhs_src, 'kinds' : lhs_kinds },\n",
    "        { 'src' : rhs_src, 'kinds' : rhs_kinds }\n",
    "    )['output']\n",
    "    return (output >= 0.0).item()"
   ]
  },
  {
   "cell_type": "code",
   "execution_count": 6,
   "id": "57b85f19-214b-4d72-8c63-ab44b1b57d6c",
   "metadata": {},
   "outputs": [
    {
     "name": "stdout",
     "output_type": "stream",
     "text": [
      "True\n",
      "False\n"
     ]
    }
   ],
   "source": [
    "print(predict(\"Equation600\", \"Equation518\"))\n",
    "print(predict(\"Equation1718\", \"Equation3965\"))"
   ]
  },
  {
   "cell_type": "markdown",
   "id": "08775d85-f13b-4ef4-a6f5-503cc3b3dafb",
   "metadata": {},
   "source": [
    "# Testing the model\n",
    "\n",
    "In the cells below we will test the model using the testing dataset.\n",
    "This is exactly what the script `posttrain.py` does as its last step."
   ]
  },
  {
   "cell_type": "code",
   "execution_count": 7,
   "id": "c6c1f72e-8c3d-41c6-bb40-3ddaf27bb22d",
   "metadata": {},
   "outputs": [
    {
     "name": "stdout",
     "output_type": "stream",
     "text": [
      "Loading corpus. This may take a while...\n"
     ]
    },
    {
     "name": "stderr",
     "output_type": "stream",
     "text": [
      "2756786it [00:08, 342931.87it/s]\n"
     ]
    }
   ],
   "source": [
    "dataset_cfg = PosttrainingDatasetConfig(\n",
    "    datadir='posttraining/data',\n",
    "    equations='tokenized_equations.jsonl',\n",
    "    train='train_impls.jsonl',\n",
    "    val='val_impls.jsonl',\n",
    "    test='test_impls.jsonl',\n",
    "    pad_kind=0,\n",
    "    lhs_kind=1,\n",
    "    rhs_kind=2,\n",
    "    max_datapoints=None\n",
    ")\n",
    "\n",
    "dataset = PosttrainingDataset(dataset_cfg, tokenizer, 'test')"
   ]
  },
  {
   "cell_type": "code",
   "execution_count": 8,
   "id": "d2be1221-c99c-4b56-81c5-98a300b8dfd3",
   "metadata": {},
   "outputs": [],
   "source": [
    "dataloader = DataLoader(\n",
    "        dataset,\n",
    "        batch_size=1024,\n",
    "        num_workers=8,\n",
    "        shuffle=True,\n",
    "        collate_fn=dataset.collate_fn\n",
    "    )"
   ]
  },
  {
   "cell_type": "code",
   "execution_count": 9,
   "id": "f0428929-c07b-4cac-89d8-bb69507b2040",
   "metadata": {},
   "outputs": [
    {
     "data": {
      "application/vnd.jupyter.widget-view+json": {
       "model_id": "187ef34e67264039af68d13cf96f90ec",
       "version_major": 2,
       "version_minor": 0
      },
      "text/plain": [
       "  0%|          | 0/2693 [00:00<?, ?it/s]"
      ]
     },
     "metadata": {},
     "output_type": "display_data"
    },
    {
     "name": "stdout",
     "output_type": "stream",
     "text": [
      "Correct ratio so far: 0.9834386706352234"
     ]
    }
   ],
   "source": [
    "# This will take a while to run\n",
    "correct_pred = 0\n",
    "total = 0\n",
    "for batch in tqdm(dataloader):\n",
    "    predictions = (model(**batch)['output'] >= 0.0).int()\n",
    "    correct_predictions = (predictions == batch['labels']).int().sum()\n",
    "    size = predictions.size(0)\n",
    "    total += size\n",
    "    correct_pred += correct_predictions\n",
    "    print(f'\\rCorrect ratio so far: {correct_pred/total}',end='',flush=True)"
   ]
  },
  {
   "cell_type": "code",
   "execution_count": 10,
   "id": "9d2594c0-cf5e-4c27-bece-78ee620458d5",
   "metadata": {},
   "outputs": [
    {
     "name": "stdout",
     "output_type": "stream",
     "text": [
      "Testing accuracy: 0.9834386706352234\n"
     ]
    }
   ],
   "source": [
    "print(f\"Testing accuracy: {correct_pred/total}\")"
   ]
  },
  {
   "cell_type": "code",
   "execution_count": null,
   "id": "768710a8-d90e-46dc-9922-5be2627b4469",
   "metadata": {},
   "outputs": [],
   "source": []
  }
 ],
 "metadata": {
  "kernelspec": {
   "display_name": "Python 3 (ipykernel)",
   "language": "python",
   "name": "python3"
  },
  "language_info": {
   "codemirror_mode": {
    "name": "ipython",
    "version": 3
   },
   "file_extension": ".py",
   "mimetype": "text/x-python",
   "name": "python",
   "nbconvert_exporter": "python",
   "pygments_lexer": "ipython3",
   "version": "3.12.7"
  }
 },
 "nbformat": 4,
 "nbformat_minor": 5
}
